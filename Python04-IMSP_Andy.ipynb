{
 "cells": [
  {
   "cell_type": "markdown",
   "id": "b0996370",
   "metadata": {},
   "source": [
    "1. "
   ]
  },
  {
   "cell_type": "code",
   "execution_count": 9,
   "id": "6e03cc95",
   "metadata": {},
   "outputs": [
    {
     "name": "stdout",
     "output_type": "stream",
     "text": [
      "{'tomatoes': 123, 'potatoes': 234}\n",
      "The product doesn't exist.\n",
      "Le prix du produit potatoes est :  234\n",
      "{'tomatoes': 123, 'potatoes': 234, 'swoard': 1444}\n"
     ]
    }
   ],
   "source": [
    "products = {\n",
    "    'tomatoes':123,\n",
    "    'potatoes':234,\n",
    "}\n",
    "\n",
    "def addproduct(products, product, price):\n",
    "    products[str(product)]=price\n",
    "\n",
    "def changeproductprice(products, product, price):\n",
    "    if product in products.keys():\n",
    "        products[str(product)]=price\n",
    "    else :\n",
    "        print(\"The product doesn't exist.\")\n",
    "\n",
    "def productprice(products, product):\n",
    "    if product in products.keys():\n",
    "        print(\"Le prix du produit\", product, \"est : \", products[str(product)])\n",
    "    else :\n",
    "        print(\"The product doesn't exist.\")\n",
    "    \n",
    "\n",
    "print(products)\n",
    "\n",
    "addproduct(products, \"swoard\", 1444)\n",
    "changeproductprice(products, \"potatoe\", 23)\n",
    "productprice(products,'potatoes',)\n",
    "print(products)"
   ]
  },
  {
   "cell_type": "markdown",
   "id": "0a7b8521",
   "metadata": {},
   "source": [
    "2. "
   ]
  },
  {
   "cell_type": "code",
   "execution_count": 17,
   "id": "b2e29e81",
   "metadata": {},
   "outputs": [
    {
     "name": "stdout",
     "output_type": "stream",
     "text": [
      "{'Andy': 96297833, 'potatoes celler': 97159167}\n",
      "Le numero du contact potatoes celler est :  97159167\n",
      "The number doesn't exist.\n"
     ]
    }
   ],
   "source": [
    "telephone_list = {\n",
    "    'Andy':96297833,\n",
    "    'potatoes celler':97159167,\n",
    "}\n",
    "\n",
    "def addcontact(telephone_list, contact, number):\n",
    "    products[str(contact)]=number\n",
    "\n",
    "def searchcontact(telephone_list, contact):\n",
    "    if contact in telephone_list.keys():\n",
    "        print(\"Le numero du contact\", contact, \"est : \", telephone_list[str(contact)])\n",
    "    else :\n",
    "        print(\"The contact doesn't exist.\")\n",
    "\n",
    "def searchnumber(telephone_list, number):\n",
    "    for i in telephone_list.keys():\n",
    "        if telephone_list[i] == number:\n",
    "            print(\"Le nom du contact dont le numero est \", number, \"est : \", telephone_list[i])\n",
    "    else :\n",
    "        print(\"The number doesn't exist.\")\n",
    "def printtelephonelist(telephone_list):\n",
    "    print(telephone_list)\n",
    "\n",
    "printtelephonelist(telephone_list)\n",
    "searchcontact(telephone_list, \"potatoes celler\")\n",
    "searchnumber(telephone_list, 97129167)"
   ]
  },
  {
   "cell_type": "markdown",
   "id": "e16fe2c0",
   "metadata": {},
   "source": [
    "3. "
   ]
  },
  {
   "cell_type": "code",
   "execution_count": 28,
   "id": "2ec4fe5b",
   "metadata": {},
   "outputs": [
    {
     "name": "stdout",
     "output_type": "stream",
     "text": [
      "{'Bonjourno': 9, 'hi': 2, 'may': 3, 'January': 7}\n"
     ]
    }
   ],
   "source": [
    "list_of_world = ['Bonjourno', 'hi', 'may', 'January']\n",
    "i=0\n",
    "\n",
    "\n",
    "def list_of_integer_generator(list_of_world):\n",
    "    list_of_integer = []\n",
    "    for i in range(len(list_of_world)):\n",
    "        list_of_integer.append(len(list_of_world[i]))\n",
    "    return list_of_integer\n",
    "\n",
    "def maper(list_of_world, list_of_integer):\n",
    "    maps = {}\n",
    "    j=0\n",
    "    for i in list_of_world:\n",
    "        maps[i]=list_of_integer[j]\n",
    "        j+=1\n",
    "    return maps\n",
    "    \n",
    "list_of_integer = list_of_integer_generator(list_of_world)\n",
    "maps = maper(list_of_world, list_of_integer)\n",
    "\n",
    "print(maps)"
   ]
  },
  {
   "cell_type": "markdown",
   "id": "eaa5ba5f",
   "metadata": {},
   "source": [
    "4. "
   ]
  },
  {
   "cell_type": "code",
   "execution_count": 37,
   "id": "071f1de7",
   "metadata": {},
   "outputs": [
    {
     "name": "stdout",
     "output_type": "stream",
     "text": [
      "La taille du plus long mot est : 9\n"
     ]
    }
   ],
   "source": [
    "def list_of_integer_generator(list_of_world):\n",
    "    list_of_integer = []\n",
    "    for i in range(len(list_of_world)):\n",
    "        list_of_integer.append(len(list_of_world[i]))\n",
    "    return list_of_integer\n",
    "\n",
    "def order(integers):\n",
    "    j = len(integers)-1\n",
    "    tmp = 0\n",
    "    while(j>0):\n",
    "        for i in range(0, len(integers)-1):\n",
    "            if integers[i]>integers[i+1]:\n",
    "                tmp = integers[i]\n",
    "                integers[i] = integers[i+1]\n",
    "                integers[i+1] = tmp\n",
    "        j-=1\n",
    "    return integers\n",
    "    \n",
    "def find_longest_word(list_of_world):\n",
    "    list_of_integer = list_of_integer_generator(list_of_world)\n",
    "    order(list_of_integer)\n",
    "    print(\"La taille du plus long mot est :\", list_of_integer[-1])\n",
    "\n",
    "list_of_world = ['Bonjourno', 'hi', 'may', 'January']\n",
    "find_longest_word(list_of_world)"
   ]
  },
  {
   "cell_type": "markdown",
   "id": "ba70b300",
   "metadata": {},
   "source": [
    "5. "
   ]
  },
  {
   "cell_type": "code",
   "execution_count": 2,
   "id": "c5e2a279",
   "metadata": {},
   "outputs": [
    {
     "name": "stdout",
     "output_type": "stream",
     "text": [
      "['god', 'jul']\n"
     ]
    }
   ],
   "source": [
    "bilingual_lexicon = {\"merry\":\"god\", \"christmas\":\"jul\", \"and\":\"och\", \"happy\":\"gott\", \"new\":\"nytt\", \"year\":\"ar\"}\n",
    "\n",
    "def translate(world = []):\n",
    "    \"\"\"If the word is not know it'll be remplace by :(\"\"\"\n",
    "    j=0\n",
    "    tarnslation =[]\n",
    "    while(j<len(world)):\n",
    "        if world[j] in bilingual_lexicon.keys():\n",
    "            tarnslation.append(bilingual_lexicon[world[j]])\n",
    "        else :\n",
    "            tarnslation.append(':(')\n",
    "        j+=1\n",
    "    return print(tarnslation)\n",
    "    \n",
    "translate([\"merry\", \"christmas\"])"
   ]
  },
  {
   "cell_type": "markdown",
   "id": "f5ddf8f1",
   "metadata": {},
   "source": [
    "6. "
   ]
  },
  {
   "cell_type": "code",
   "execution_count": 5,
   "id": "84a4e6ff",
   "metadata": {},
   "outputs": [
    {
     "name": "stdout",
     "output_type": "stream",
     "text": [
      "False\n",
      "True\n"
     ]
    }
   ],
   "source": [
    "def is_member(x, im_i_here):\n",
    "    i=0\n",
    "    while(i<len(im_i_here)):\n",
    "        if im_i_here[i] == x:\n",
    "            return True\n",
    "        i+=1\n",
    "    return False \n",
    "    \n",
    "im_i_here = [[2, 3, 6], 3, \"gig\", \"old_town road\"]\n",
    "x = 4\n",
    "y = \"old_town road\"\n",
    "\n",
    "print(is_member(x, im_i_here))\n",
    "print(is_member(y, im_i_here))"
   ]
  },
  {
   "cell_type": "markdown",
   "id": "6b7356a9",
   "metadata": {},
   "source": [
    "7. "
   ]
  },
  {
   "cell_type": "code",
   "execution_count": 12,
   "id": "ae3c733e",
   "metadata": {},
   "outputs": [
    {
     "name": "stdout",
     "output_type": "stream",
     "text": [
      "[0, 3, 6, 9]\n",
      "Start ============================\n",
      "\n",
      "***\n",
      "******\n",
      "*********\n",
      "End ============================\n"
     ]
    }
   ],
   "source": [
    "def histogram(list_of_integer):\n",
    "    his=\"*\"\n",
    "    for i in list_of_integer:\n",
    "        print(i*his)\n",
    "\n",
    "list_of_integer = list(range(0, 10, 3))\n",
    "print(list_of_integer)\n",
    "print(\"Start ============================\")\n",
    "histogram(list_of_integer)\n",
    "print(\"End ============================\")"
   ]
  },
  {
   "cell_type": "markdown",
   "id": "bacac3fd",
   "metadata": {},
   "source": [
    "8. "
   ]
  },
  {
   "cell_type": "code",
   "execution_count": 26,
   "id": "aac67905",
   "metadata": {},
   "outputs": [
    {
     "name": "stdout",
     "output_type": "stream",
     "text": [
      "-  Amour\n",
      "- [90.0, 97.0, 75.0, 92.0]\n",
      "- [88.0, 40.0, 94.0]\n",
      "- [75.0, 90.0]\n",
      "-  Paix\n",
      "- [100.0, 92.0, 98.0, 100.0]\n",
      "- [82.0, 83.0, 91.0]\n",
      "- [89.0, 97.0]\n",
      "-  Foi\n",
      "- [0.0, 87.0, 75.0, 22.0]\n",
      "- [0.0, 75.0, 78.0]\n",
      "- [100.0, 100.0]\n",
      "80.55\n",
      "B\n",
      "83.86666666666666\n",
      "B\n"
     ]
    }
   ],
   "source": [
    "Amour, Paix, Foi = {}, {}, {}\n",
    "keys =[\"homework\", \"quizzes\", \"tests\"]\n",
    "def givekeys(keys, dictionary):\n",
    "    dictionary[\"name\"]=\"\"\n",
    "    for i in keys :\n",
    "        dictionary[i]=[]\n",
    "for i in [Amour, Paix, Foi]:\n",
    "    givekeys(keys, i)\n",
    "    \n",
    "Amour['name']=\"Amour\"\n",
    "Paix['name']=\"Paix\"\n",
    "Foi['name']=\"Foi\"\n",
    "\n",
    "Amour = {\n",
    "\"name\": \"Amour\",\n",
    "\"homework\": [90.0,97.0,75.0,92.0],\n",
    "\"quizzes\": [88.0,40.0,94.0],\n",
    "\"tests\": [75.0,90.0]\n",
    "}\n",
    "Paix = {\n",
    "\"name\": \"Paix\",\n",
    "\"homework\": [100.0, 92.0, 98.0, 100.0],\n",
    "\"quizzes\": [82.0, 83.0, 91.0],\n",
    "\"tests\": [89.0, 97.0]\n",
    "}\n",
    "Foi = {\n",
    "\"name\": \"Foi\",\n",
    "\"homework\": [0.0, 87.0, 75.0, 22.0],\n",
    "\"quizzes\": [0.0, 75.0, 78.0],\n",
    "\"tests\": [100.0, 100.0]\n",
    "}\n",
    "\n",
    "students = [Amour, Paix, Foi]\n",
    "\n",
    "for i in students:\n",
    "    print(\"- \",i['name'])\n",
    "    print(\"-\",i['homework'])\n",
    "    print(\"-\",i['quizzes'])\n",
    "    print(\"-\",i['tests'])\n",
    "\n",
    "def average(numbers):\n",
    "    total = sum(numbers)\n",
    "    total = total/len(numbers)\n",
    "    return total\n",
    "\n",
    "def get_average(student):\n",
    "    homework = average(student['homework'])\n",
    "    quizzes = average(student['quizzes'])\n",
    "    tests = average(student['tests'])\n",
    "    return homework*0.1+quizzes*0.3+tests*0.6\n",
    "\n",
    "def get_letter_grade(score):\n",
    "    if score >= 90: return \"A\"\n",
    "    elif score >= 80 and score <= 90 : return \"B\"\n",
    "    elif score >= 70 and score <= 80: return \"C\"\n",
    "    elif score >= 60 and score <= 70: return \"D\"\n",
    "    else: return \"F\"\n",
    "print(get_average(Amour))\n",
    "print(get_letter_grade(get_average(Amour)))\n",
    "\n",
    "def get_class_average(students):\n",
    "    results = []\n",
    "    for i in students:\n",
    "        results.append(get_average(i))\n",
    "    result = average(results)\n",
    "    return result\n",
    "\n",
    "nani = get_class_average(students)\n",
    "print(nani)\n",
    "print(get_letter_grade(nani))"
   ]
  },
  {
   "cell_type": "code",
   "execution_count": null,
   "id": "4bdd1830",
   "metadata": {},
   "outputs": [],
   "source": [
    " get_class_average "
   ]
  }
 ],
 "metadata": {
  "kernelspec": {
   "display_name": "Python 3",
   "language": "python",
   "name": "python3"
  }
 },
 "nbformat": 4,
 "nbformat_minor": 5
}
