{
 "cells": [
  {
   "cell_type": "markdown",
   "id": "83b9aee1",
   "metadata": {},
   "source": [
    "1. "
   ]
  },
  {
   "cell_type": "code",
   "execution_count": 8,
   "id": "e27f6574",
   "metadata": {},
   "outputs": [
    {
     "name": "stdout",
     "output_type": "stream",
     "text": [
      "Entrez la valeur de x : 3\n",
      "Entrez la valeur de y : 09\n",
      "La valeur de l'expression est :  363.5963576911447\n"
     ]
    }
   ],
   "source": [
    "from math import *\n",
    "def calcul_espression(x, y):\n",
    "    calc = ((x**(2+y))**0.5)/((x)**(-1) + 2*sin(y))\n",
    "    print(\"La valeur de l'expression est : \",calc)\n",
    "    \n",
    "    \n",
    "x = float(input('Entrez la valeur de x : '))\n",
    "y = float(input('Entrez la valeur de y : '))\n",
    "\n",
    "calcul_espression(x, y)"
   ]
  },
  {
   "cell_type": "markdown",
   "id": "2d38bf3e",
   "metadata": {},
   "source": [
    "2. "
   ]
  },
  {
   "cell_type": "code",
   "execution_count": 6,
   "id": "0bd9a342",
   "metadata": {},
   "outputs": [
    {
     "name": "stdout",
     "output_type": "stream",
     "text": [
      "Entrez la valeur de b : 2\n",
      "Entrez la valeur de n : 2\n",
      "1\n",
      "4\n"
     ]
    }
   ],
   "source": [
    "def ownpowerfn(b, n):\n",
    "    i=1\n",
    "    while i<n : \n",
    "        print(i)\n",
    "        b*=b\n",
    "        i+=1   \n",
    "    return b\n",
    "\n",
    "\n",
    "b = int(input('Entrez la valeur de b : '))\n",
    "n = int(input('Entrez la valeur de n : '))\n",
    "while(n<0) :\n",
    "    n = int(input('Entrez la valeur de n : '))\n",
    "\n",
    "print(ownpowerfn(b, n))"
   ]
  },
  {
   "cell_type": "markdown",
   "id": "88b5b222",
   "metadata": {},
   "source": [
    "si n<0 alors la fontion retournera b"
   ]
  },
  {
   "cell_type": "code",
   "execution_count": 9,
   "id": "3b1d6ba5",
   "metadata": {},
   "outputs": [
    {
     "name": "stdout",
     "output_type": "stream",
     "text": [
      "Entrez la valeur de b : 45\n",
      "Entrez la valeur de n : -30\n",
      "45\n"
     ]
    }
   ],
   "source": [
    "def ownpowerfn(b, n):\n",
    "    i=1\n",
    "    while i<n : \n",
    "        print(i)\n",
    "        b*=b\n",
    "        i+=1   \n",
    "    return b\n",
    "\n",
    "\n",
    "b = int(input('Entrez la valeur de b : '))\n",
    "n = int(input('Entrez la valeur de n : '))\n",
    "while(n>0) :\n",
    "    n = int(input('Entrez la valeur de n : '))\n",
    "\n",
    "print(ownpowerfn(b, n))"
   ]
  },
  {
   "cell_type": "markdown",
   "id": "9ad017b4",
   "metadata": {},
   "source": [
    "3. "
   ]
  },
  {
   "cell_type": "markdown",
   "id": "1cda7ed5",
   "metadata": {},
   "source": [
    "a. "
   ]
  },
  {
   "cell_type": "code",
   "execution_count": 12,
   "id": "8b943afc",
   "metadata": {},
   "outputs": [
    {
     "name": "stdout",
     "output_type": "stream",
     "text": [
      "Entrez la valeur de x : 3\n",
      "Entrez la valeur de y : 4\n",
      "{'arithmetic_mean': 3.5, 'geometric_mean': 3.4641016151377544}\n"
     ]
    }
   ],
   "source": [
    "def arithmetic_mean(x, y) :\n",
    "    return (x+y)/2\n",
    "\n",
    "def geometric_mean(x, y) :\n",
    "    return (x*y)**(0.5)\n",
    "\n",
    "def glob(x, y):\n",
    "    return {'arithmetic_mean':arithmetic_mean(x, y), 'geometric_mean':geometric_mean(x, y)} \n",
    "\n",
    "\n",
    "x = int(input('Entrez la valeur de x : '))\n",
    "y = int(input('Entrez la valeur de y : '))\n",
    "print(glob(x, y))"
   ]
  },
  {
   "cell_type": "markdown",
   "id": "7e0f6a3c",
   "metadata": {},
   "source": [
    "b."
   ]
  },
  {
   "cell_type": "code",
   "execution_count": 21,
   "id": "dfbab718",
   "metadata": {},
   "outputs": [
    {
     "name": "stdout",
     "output_type": "stream",
     "text": [
      "Entrez la valeur à convertir : 34\n",
      " Choisissez la conversion :\n",
      "                1. de °C à °F \n",
      "                2. de °F à °C \n",
      "                2\n",
      "en °C on a :  3.6\n"
     ]
    }
   ],
   "source": [
    "def celcius_to_fahrenheit(c) :\n",
    "    return ( (9/5)*c + 32 )\n",
    "def fahrenheit_to_celcius(f) :\n",
    "    return (f - 32 )*(9/5)\n",
    "\n",
    "def convert():\n",
    "    valeur = float(input('Entrez la valeur à convertir : '))\n",
    "    n = int(input(\"\"\" Choisissez la conversion :\n",
    "                1. de °C à °F \n",
    "                2. de °F à °C \n",
    "                \"\"\"))\n",
    "    if n == 1 :\n",
    "        print(\"en °F on a : \",celcius_to_fahrenheit(valeur))\n",
    "    elif n == 2 :\n",
    "        print(\"en °C on a : \",fahrenheit_to_celcius(valeur))\n",
    "    else :\n",
    "        print('Erreur')\n",
    "        \n",
    "convert()"
   ]
  },
  {
   "cell_type": "markdown",
   "id": "9199b191",
   "metadata": {},
   "source": [
    "c. "
   ]
  },
  {
   "cell_type": "code",
   "execution_count": 23,
   "id": "ee8e488e",
   "metadata": {},
   "outputs": [
    {
     "name": "stdout",
     "output_type": "stream",
     "text": [
      "Entrez la valeur à convertir : 180\n",
      " Choisissez la conversion :\n",
      "                1. de ° à rad \n",
      "                2. de rad à ° \n",
      "                1\n",
      "en rad on a :  3.141592653589793\n"
     ]
    }
   ],
   "source": [
    "from math import pi\n",
    "def degrees_to_radians(d) :\n",
    "    return (d*pi)/180\n",
    "def radians_to_degrees(r) :\n",
    "    return (c*180)/pi\n",
    "\n",
    "def convert():\n",
    "    valeur = float(input('Entrez la valeur à convertir : '))\n",
    "    n = int(input(\"\"\" Choisissez la conversion :\n",
    "                1. de ° à rad \n",
    "                2. de rad à ° \n",
    "                \"\"\"))\n",
    "    if n == 1 :\n",
    "        print(\"en rad on a : \",degrees_to_radians(valeur))\n",
    "    elif n == 2 :\n",
    "        print(\"en ° on a : \",radians_to_degrees(valeur))\n",
    "    else :\n",
    "        print('Erreur')\n",
    "        \n",
    "convert()"
   ]
  },
  {
   "cell_type": "markdown",
   "id": "9608f2b4",
   "metadata": {},
   "source": [
    "d. "
   ]
  },
  {
   "cell_type": "code",
   "execution_count": 25,
   "id": "43d16cdd",
   "metadata": {},
   "outputs": [
    {
     "name": "stdout",
     "output_type": "stream",
     "text": [
      "Entrez la valeur du rayon : 34\n",
      "{'area': 3631.681107549801, 'circonference': 213.62830044410595}\n"
     ]
    }
   ],
   "source": [
    "from math import pi\n",
    "def glob(r):\n",
    "    return {'area':(pi*(r**2)), 'circonference':(2*pi*r)}\n",
    "\n",
    "valeur = float(input('Entrez la valeur du rayon : '))\n",
    "while valeur<=0 :\n",
    "    valeur = float(input('Entrez la valeur à convertir : '))\n",
    "print(glob(valeur))"
   ]
  },
  {
   "cell_type": "markdown",
   "id": "792f9575",
   "metadata": {},
   "source": [
    "4."
   ]
  },
  {
   "cell_type": "raw",
   "id": "b9e56d16",
   "metadata": {},
   "source": [
    "a. "
   ]
  },
  {
   "cell_type": "code",
   "execution_count": 27,
   "id": "19939ab6",
   "metadata": {},
   "outputs": [
    {
     "name": "stdout",
     "output_type": "stream",
     "text": [
      "Entrez la valeur de x : 0\n",
      "Entrez la valeur de y : 4\n",
      "[1.0, 0.0]\n",
      "[0.5, 0.0]\n",
      "[0.25, 0.0]\n",
      "[0.125, 0.0]\n",
      "[0.0625, 0.0]\n",
      "[0.03125, 0.0]\n",
      "[0.015625, 0.0]\n",
      "[0.0078125, 0.0]\n",
      "[0.00390625, 0.0]\n",
      "[0.001953125, 0.0]\n"
     ]
    }
   ],
   "source": [
    "def arithmetic_mean(x, y) :\n",
    "    return (x+y)/2\n",
    "\n",
    "def geometric_mean(x, y) :\n",
    "    return (x*y)**(0.5)\n",
    "\n",
    "def glob(x, y):\n",
    "    return [arithmetic_mean(x, y), geometric_mean(x, y)]\n",
    "\n",
    "x = int(input('Entrez la valeur de x : '))\n",
    "y = int(input('Entrez la valeur de y : '))\n",
    "z = glob(x, y)\n",
    "\n",
    "for i in range(0, 10):\n",
    "    z = glob(z[0], z[1])\n",
    "    print(z)"
   ]
  },
  {
   "cell_type": "markdown",
   "id": "42d8ea1a",
   "metadata": {},
   "source": [
    "b."
   ]
  },
  {
   "cell_type": "code",
   "execution_count": 28,
   "id": "053fa4e9",
   "metadata": {},
   "outputs": [
    {
     "data": {
      "text/plain": [
       "{'circonference': 16.12899020449196, 'area': 143.99999999999994}"
      ]
     },
     "execution_count": 28,
     "metadata": {},
     "output_type": "execute_result"
    }
   ],
   "source": [
    "def distancefn(X, Y):\n",
    "    return ((X[0] - Y[0])**2 + (X[1] - Y[1])**2)**(0.5)\n",
    "\n",
    "def globs(X, Y, Z) :\n",
    "    perimetre = distancefn(X, Y)+distancefn(Y, Z)+distancefn(Z, X)\n",
    "    d = perimetre/2\n",
    "    a =  distancefn(X, Y)\n",
    "    b = distancefn(Y, Z)\n",
    "    c = distancefn(Z, X)\n",
    "    air = (d*(d-a)*(d-b)*(d-c))\n",
    "    return {'circonference': perimetre, 'area':air}\n",
    "\n",
    "globs([1, 2], [5, 6], [1, 8])"
   ]
  },
  {
   "cell_type": "markdown",
   "id": "08e174c5",
   "metadata": {},
   "source": [
    "5."
   ]
  },
  {
   "cell_type": "code",
   "execution_count": 4,
   "id": "4173b3af",
   "metadata": {},
   "outputs": [
    {
     "name": "stdout",
     "output_type": "stream",
     "text": [
      " Choisissez l'opération :\n",
      "                1. Factoriel \n",
      "                2. Evaluation d'une éqiuation du second degré\n",
      "                3. Quitter\n",
      "                1\n",
      "Entrez la valeur dont vous recherchez le factoriel : 2\n",
      "Le résultat est 2\n"
     ]
    }
   ],
   "source": [
    "def factoriel(n): \n",
    "    factoriel = 1\n",
    "    for i in range(1, n+1):\n",
    "        factoriel*=i\n",
    "    return factoriel\n",
    "\n",
    "def second_deg(a, b, c):\n",
    "    if a == 0:\n",
    "        return (-b)/c\n",
    "    delta = b**2 - 4*a*c\n",
    "    \n",
    "    if delta == 0 :\n",
    "        return (-b)/(2*a)\n",
    "    elif delta>0:\n",
    "        return {'x_1': (-b + delta**(0.5))/(2*a),'x_2': (-b - delta**(0.5))/(2*a)} \n",
    "        \n",
    "\n",
    "n = int(input(\"\"\" Choisissez l'opération :\n",
    "                1. Factoriel \n",
    "                2. Evaluation d'une éqiuation du second degré\n",
    "                3. Quitter\n",
    "                \"\"\"))\n",
    "if n == 1 :\n",
    "    val = int(input(\"Entrez la valeur dont vous recherchez le factoriel : \"))\n",
    "    if val <0 :\n",
    "        print(\"Impossible\")\n",
    "    elif val in [0, 1]:\n",
    "        print(\"Le resultat est 1\")\n",
    "    else :\n",
    "        print(\"Le résultat est\", factoriel(val))\n",
    "elif n == 2:\n",
    "    print(\"Entrez a, b et c tels que aX²+bX+c=0 \")\n",
    "    a = float(input('Entrez la valeur de a : '))\n",
    "    b = float(input('Entrez la valeur de b : '))\n",
    "    c = float(input('Entrez la valeur de c : '))\n",
    "    print(\"Les solutions sont :\", second_deg(a, b, c))\n",
    "else : \n",
    "    exit()"
   ]
  },
  {
   "cell_type": "markdown",
   "id": "8d298215",
   "metadata": {},
   "source": [
    "6."
   ]
  },
  {
   "cell_type": "code",
   "execution_count": null,
   "id": "c0758613",
   "metadata": {},
   "outputs": [],
   "source": [
    "def power(x, n):\n",
    "    if n = 0:\n",
    "        return 1\n",
    "    else:\n",
    "        return x*power(x, n-1)\n",
    "\n"
   ]
  },
  {
   "cell_type": "markdown",
   "id": "ad8121f1",
   "metadata": {},
   "source": [
    "7."
   ]
  },
  {
   "cell_type": "code",
   "execution_count": 3,
   "id": "211b998e",
   "metadata": {},
   "outputs": [
    {
     "name": "stdout",
     "output_type": "stream",
     "text": [
      "Fibonacci sequence:\n",
      "0\n",
      "1\n",
      "1\n",
      "2\n",
      "3\n",
      "5\n",
      "8\n",
      "13\n",
      "21\n",
      "34\n",
      "55\n",
      "89\n",
      "144\n",
      "233\n",
      "377\n",
      "610\n",
      "987\n",
      "1597\n",
      "2584\n",
      "4181\n",
      "6765\n",
      "10946\n",
      "17711\n",
      "28657\n",
      "46368\n",
      "75025\n",
      "121393\n",
      "196418\n",
      "317811\n",
      "514229\n",
      "832040\n",
      "1346269\n",
      "2178309\n",
      "3524578\n",
      "5702887\n",
      "9227465\n",
      "14930352\n",
      "24157817\n",
      "39088169\n",
      "63245986\n",
      "102334155\n",
      "165580141\n",
      "267914296\n",
      "433494437\n",
      "701408733\n",
      "1134903170\n",
      "1836311903\n",
      "2971215073\n",
      "4807526976\n",
      "7778742049\n",
      "12586269025\n",
      "20365011074\n",
      "32951280099\n",
      "53316291173\n",
      "86267571272\n",
      "139583862445\n",
      "225851433717\n",
      "365435296162\n",
      "591286729879\n",
      "956722026041\n",
      "1548008755920\n",
      "2504730781961\n",
      "4052739537881\n",
      "6557470319842\n",
      "10610209857723\n",
      "17167680177565\n",
      "27777890035288\n",
      "44945570212853\n",
      "72723460248141\n",
      "117669030460994\n",
      "190392490709135\n",
      "308061521170129\n",
      "498454011879264\n",
      "806515533049393\n",
      "1304969544928657\n",
      "2111485077978050\n",
      "3416454622906707\n",
      "5527939700884757\n",
      "8944394323791464\n",
      "14472334024676221\n",
      "23416728348467685\n",
      "37889062373143906\n",
      "61305790721611591\n",
      "99194853094755497\n",
      "160500643816367088\n",
      "259695496911122585\n",
      "420196140727489673\n",
      "679891637638612258\n",
      "1100087778366101931\n",
      "1779979416004714189\n",
      "2880067194370816120\n",
      "4660046610375530309\n",
      "7540113804746346429\n",
      "12200160415121876738\n",
      "19740274219868223167\n",
      "31940434634990099905\n",
      "51680708854858323072\n",
      "83621143489848422977\n",
      "135301852344706746049\n",
      "218922995834555169026\n"
     ]
    }
   ],
   "source": [
    "nterms = 100\n",
    "n0, n1 = 0, 1\n",
    "count = 0\n",
    "\n",
    "if nterms == 1:\n",
    "   print(\"Fibonacci sequence upto\",nterms,\":\")\n",
    "   print(n1)\n",
    "else:\n",
    "   print(\"Fibonacci sequence:\")\n",
    "   while count < nterms:\n",
    "       print(n0)\n",
    "       nth = n0 + n1\n",
    "       # update values\n",
    "       n0 = n1\n",
    "       n1 = nth\n",
    "       count += 1"
   ]
  },
  {
   "cell_type": "code",
   "execution_count": null,
   "id": "f2f134c8",
   "metadata": {},
   "outputs": [],
   "source": []
  }
 ],
 "metadata": {
  "kernelspec": {
   "display_name": "Python 3",
   "language": "python",
   "name": "python3"
  },
  "language_info": {
   "codemirror_mode": {
    "name": "ipython",
    "version": 3
   },
   "file_extension": ".py",
   "mimetype": "text/x-python",
   "name": "python",
   "nbconvert_exporter": "python",
   "pygments_lexer": "ipython3",
   "version": "3.8.8"
  }
 },
 "nbformat": 4,
 "nbformat_minor": 5
}
