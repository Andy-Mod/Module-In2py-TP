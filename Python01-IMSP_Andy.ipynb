{
 "cells": [
  {
   "cell_type": "markdown",
   "id": "ddbce3a3",
   "metadata": {},
   "source": [
    "#1 - SUMMATION AND PRODUCTS"
   ]
  },
  {
   "cell_type": "markdown",
   "id": "fa8ec9f5",
   "metadata": {},
   "source": [
    "1. "
   ]
  },
  {
   "cell_type": "code",
   "execution_count": null,
   "id": "d7301dda",
   "metadata": {},
   "outputs": [],
   "source": [
    "\n",
    "    "
   ]
  },
  {
   "cell_type": "markdown",
   "id": "ab8cda7e",
   "metadata": {},
   "source": [
    "2. "
   ]
  },
  {
   "cell_type": "code",
   "execution_count": null,
   "id": "59d9658b",
   "metadata": {},
   "outputs": [],
   "source": [
    "days = ['Lundi', 'Mardi', 'Mercredi', 'Jeudi', 'Vendredi', 'Samedi', 'Dimanche']\n",
    "n = int(input(\"Choisisez un entier n compris entre 0 et 6 (0 pour Lundi): \" ))\n",
    "\n",
    "while n<0 or n>6 :\n",
    "    n = int(input(\"Choisisez un entier n compris entre 0 et 6 : \" ))\n",
    "if n>=0 and n<=4 :\n",
    "    print(\"\\n\", days[n])\n",
    "else :\n",
    "    print(\"Weekend\")"
   ]
  },
  {
   "cell_type": "markdown",
   "id": "d7d46c3a",
   "metadata": {},
   "source": [
    "3. "
   ]
  },
  {
   "cell_type": "code",
   "execution_count": null,
   "id": "03aa4da8",
   "metadata": {},
   "outputs": [],
   "source": [
    "mouth = ['Janvier','Février',  'Mars', 'Avril', 'Mai', 'Juin', 'Juillet', 'Aout', 'Septembre', 'Octobre', 'Novembre', 'Décembre']\n",
    "n = int(input(\"Choisisez un entier n compris entre 0 et 11 (0 pour Janvier): \" ))\n",
    "while n<0 or n>11 :\n",
    "    n = int(input(\"Choisisez un entier n compris entre 0 et 11 : \" ))\n",
    "    \n",
    "if n in range(0, 12, 2) or ( n == 7) :\n",
    "    print(mouth[n],\"31 days\")\n",
    "elif n in range(1, 12, 2) and ( n not in [1, 7] ) : \n",
    "    print(mouth[n], \"30 days\")\n",
    "elif n == 1 :\n",
    "    print(mouth[n],\"28/29 days\")\n",
    "    "
   ]
  },
  {
   "cell_type": "markdown",
   "id": "298c02d9",
   "metadata": {},
   "source": [
    "4."
   ]
  },
  {
   "cell_type": "code",
   "execution_count": null,
   "id": "74bc038c",
   "metadata": {},
   "outputs": [],
   "source": [
    "n = int(input(\"Entrez une nombre n : \"))\n",
    "while n<0 :\n",
    "    n = int(input(\"Entrez une nombre n : \"))\n",
    "somme = 0\n",
    "\n",
    "for i in range (n+1) :\n",
    "    somme+=(i**2)\n",
    "print (somme)\n",
    "\n",
    "i = 0\n",
    "somme = 0\n",
    "while i<n+1 :\n",
    "     somme+=(i**2)\n",
    "     i+=1\n",
    "print(somme)"
   ]
  },
  {
   "cell_type": "markdown",
   "id": "031484ac",
   "metadata": {},
   "source": [
    "8.a"
   ]
  },
  {
   "cell_type": "code",
   "execution_count": null,
   "id": "c7f85ea5",
   "metadata": {},
   "outputs": [],
   "source": [
    "n = int(input(\"Entrez une nombre n : \"))\n",
    "while n<0 :\n",
    "    n = int(input(\"Entrez une nombre n : \"))\n",
    "somme = 0\n",
    "\n",
    "for i in range (n+1) :\n",
    "    somme+=(i**2)\n",
    "print (somme)\n",
    "\n",
    "i = 0\n",
    "somme = 0\n",
    "while i<n+1 :\n",
    "     somme+=(i**2)\n",
    "     i+=1\n",
    "print(somme)"
   ]
  },
  {
   "cell_type": "markdown",
   "id": "a83bd0a6",
   "metadata": {},
   "source": [
    "9.a"
   ]
  },
  {
   "cell_type": "code",
   "execution_count": null,
   "id": "025813f8",
   "metadata": {},
   "outputs": [],
   "source": [
    "m = int(input('Entrez un entier m : '))\n",
    "fu = 0\n",
    "somme =0\n",
    "for i in range(0, m+1) :\n",
    "    for j in range(i) :\n",
    "        somme+=(j**2)\n",
    "        if somme>=m :\n",
    "            break;\n",
    "print(\"found\", j)"
   ]
  }
 ],
 "metadata": {
  "kernelspec": {
   "display_name": "Python 3",
   "language": "python",
   "name": "python3"
  },
  "language_info": {
   "codemirror_mode": {
    "name": "ipython",
    "version": 3
   },
   "file_extension": ".py",
   "mimetype": "text/x-python",
   "name": "python",
   "nbconvert_exporter": "python",
   "pygments_lexer": "ipython3",
   "version": "3.8.8"
  }
 },
 "nbformat": 4,
 "nbformat_minor": 5
}
