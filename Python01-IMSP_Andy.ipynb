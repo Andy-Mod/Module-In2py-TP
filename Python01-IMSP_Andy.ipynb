{
 "cells": [
  {
   "cell_type": "markdown",
   "id": "ddbce3a3",
   "metadata": {},
   "source": [
    "#1 - SUMMATION AND PRODUCTS"
   ]
  },
  {
   "cell_type": "markdown",
   "id": "fa8ec9f5",
   "metadata": {},
   "source": [
    "1. "
   ]
  },
  {
   "cell_type": "code",
   "execution_count": null,
   "id": "d7301dda",
   "metadata": {},
   "outputs": [],
   "source": [
    "n = int(input(\"Choisisez un entier n : \" ))\n",
    "if n < 0 :\n",
    "    while n<0 :\n",
    "        n = int(input(\"Choisisez un entier n : \" ))\n",
    "        \n",
    "produit, somme = 1, 0\n",
    "for i in range(0, n+1) :\n",
    "    if i%2 == 0 :\n",
    "        produit = produit*(i+3)\n",
    "    else :\n",
    "        somme = somme + (i+3)\n",
    "\n",
    "print('somme = ', somme) \n",
    "print('produit = ', produit)\n",
    "\n",
    "    "
   ]
  },
  {
   "cell_type": "markdown",
   "id": "ab8cda7e",
   "metadata": {},
   "source": [
    "2. "
   ]
  },
  {
   "cell_type": "code",
   "execution_count": null,
   "id": "59d9658b",
   "metadata": {},
   "outputs": [],
   "source": [
    "days = ['Lundi', 'Mardi', 'Mercredi', 'Jeudi', 'Vendredi', 'Samedi', 'Dimanche']\n",
    "n = int(input(\"Choisisez un entier n compris entre 0 et 6 (0 pour Lundi): \" ))\n",
    "\n",
    "while n<0 or n>6 :\n",
    "    n = int(input(\"Choisisez un entier n compris entre 0 et 6 : \" ))\n",
    "if n>=0 and n<=4 :\n",
    "    print(\"\\n\", days[n])\n",
    "else :\n",
    "    print(\"Weekend\")"
   ]
  },
  {
   "cell_type": "markdown",
   "id": "d7d46c3a",
   "metadata": {},
   "source": [
    "3. "
   ]
  },
  {
   "cell_type": "code",
   "execution_count": null,
   "id": "03aa4da8",
   "metadata": {},
   "outputs": [],
   "source": [
    "mouth = ['Janvier','Février',  'Mars', 'Avril', 'Mai', 'Juin', 'Juillet', 'Aout', 'Septembre', 'Octobre', 'Novembre', 'Décembre']\n",
    "n = int(input(\"Choisisez un entier n compris entre 0 et 11 (0 pour Janvier): \" ))\n",
    "while n<0 or n>11 :\n",
    "    n = int(input(\"Choisisez un entier n compris entre 0 et 11 : \" ))\n",
    "    \n",
    "if n in range(0, 12, 2) or ( n == 7) :\n",
    "    print(mouth[n],\"31 days\")\n",
    "elif n in range(1, 12, 2) and ( n not in [1, 7] ) : \n",
    "    print(mouth[n], \"30 days\")\n",
    "elif n == 1 :\n",
    "    print(mouth[n],\"28/29 days\")\n",
    "    "
   ]
  },
  {
   "cell_type": "markdown",
   "id": "8c1e9173",
   "metadata": {},
   "source": [
    "4."
   ]
  },
  {
   "cell_type": "code",
   "execution_count": 3,
   "id": "74bc038c",
   "metadata": {},
   "outputs": [
    {
     "name": "stdout",
     "output_type": "stream",
     "text": [
      "Entrez une nombre n : 2\n",
      "5\n",
      "5\n"
     ]
    }
   ],
   "source": [
    "n = int(input(\"Entrez une nombre n : \"))\n",
    "while n<0 :\n",
    "    n = int(input(\"Entrez une nombre n : \"))\n",
    "somme = 0\n",
    "\n",
    "for i in range (n+1) :\n",
    "    somme+=(i**2)\n",
    "print (somme)\n",
    "\n",
    "i = 0\n",
    "somme = 0\n",
    "while i<n+1 :\n",
    "     somme+=(i**2)\n",
    "     i+=1\n",
    "print(somme)"
   ]
  },
  {
   "cell_type": "markdown",
   "id": "67137c20",
   "metadata": {},
   "source": [
    "5. "
   ]
  },
  {
   "cell_type": "code",
   "execution_count": 10,
   "id": "413505dd",
   "metadata": {},
   "outputs": [
    {
     "name": "stdout",
     "output_type": "stream",
     "text": [
      "[0, 1, 1, 2, 3, 5, 8, 13, 21, 34, 55, 89, 144, 233, 377, 610]\n"
     ]
    }
   ],
   "source": [
    "fibo = [0, 1]\n",
    "\n",
    "for i in range(2, 16) :\n",
    "    n = fibo[i-1] + fibo[i-2]\n",
    "    fibo.append(n)\n",
    "print(fibo)"
   ]
  },
  {
   "cell_type": "markdown",
   "id": "eec4b8d0",
   "metadata": {},
   "source": [
    "6."
   ]
  },
  {
   "cell_type": "code",
   "execution_count": 19,
   "id": "83a53c6e",
   "metadata": {},
   "outputs": [
    {
     "name": "stdout",
     "output_type": "stream",
     "text": [
      "[0, 1, 0.5, 3.25, 3.125, 11.3125, 15.03125, 41.453125, 65.8203125, 157.26953125, 276.095703125, 609.8564453125, 1133.21533203125, 2396.177001953125, 4597.7344970703125, 9487.398254394531, 18536.902618408203, 37730.646072387695, 74476.03089141846, 150429.9536628723, 298643.0695056915, 600611.3957414627, 1196234.906387806, 2399951.640418291, 4788680.539372563, 9594195.190941155, 19163139.213588268, 38364155.1796176, 76671495.2305736, 153428213.15413958, 306728592.2687906]\n"
     ]
    }
   ],
   "source": [
    "sequence = [0, 1]\n",
    "\n",
    "for i in range(2, 31) :\n",
    "    n = 3*sequence[i-2] + 0.5*sequence[i-1]\n",
    "    sequence.append(n)\n",
    "print(sequence)\n"
   ]
  },
  {
   "cell_type": "markdown",
   "id": "5081f651",
   "metadata": {},
   "source": [
    "7.a "
   ]
  },
  {
   "cell_type": "code",
   "execution_count": 23,
   "id": "3d97784b",
   "metadata": {},
   "outputs": [
    {
     "name": "stdout",
     "output_type": "stream",
     "text": [
      "Entrez une année : 2004\n",
      "2004 is a laep year\n"
     ]
    }
   ],
   "source": [
    "b = int(input('Entrez une année : '))\n",
    "    \n",
    "if (b % 4 ==0 and b % 100 != 0) or (b % 400 == 0) :\n",
    "    print(b, 'is a laep year')"
   ]
  },
  {
   "cell_type": "markdown",
   "id": "e0cdd353",
   "metadata": {},
   "source": [
    "8.a"
   ]
  },
  {
   "cell_type": "code",
   "execution_count": null,
   "id": "599c229c",
   "metadata": {},
   "outputs": [],
   "source": [
    "n = int(input(\"Entrez une nombre n : \"))\n",
    "while n<0 :\n",
    "    n = int(input(\"Entrez une nombre n : \"))\n",
    "somme = 0\n",
    "\n",
    "for i in range (n+1) :\n",
    "    somme+=(i**2)\n",
    "print (somme)\n",
    "\n",
    "i = 0\n",
    "somme = 0\n",
    "while i<n+1 :\n",
    "     somme+=(i**2)\n",
    "     i+=1\n",
    "print(somme)"
   ]
  },
  {
   "cell_type": "markdown",
   "id": "18ae28d7",
   "metadata": {},
   "source": [
    "8.b"
   ]
  },
  {
   "cell_type": "code",
   "execution_count": 24,
   "id": "d188784a",
   "metadata": {},
   "outputs": [
    {
     "name": "stdout",
     "output_type": "stream",
     "text": [
      "Entrez un entier m : 3\n",
      "found 2\n",
      "found 2\n"
     ]
    }
   ],
   "source": [
    "m = int(input('Entrez un entier m : '))\n",
    "while n<0 :\n",
    "    m = int(input(\"Entrez une nombre n : \"))\n",
    "fu = 0\n",
    "somme =0\n",
    "for i in range(0, m+1) :\n",
    "    for j in range(i) :\n",
    "        somme+=(j**2)\n",
    "        if somme>=m :\n",
    "            break;\n",
    "print(\"found\", j)\n",
    "\n",
    "\n",
    "fu = 0\n",
    "somme =0\n",
    "\n",
    "while i<=m :\n",
    "    while j<i :\n",
    "        somme+=(j**2)\n",
    "        if somme>=m :\n",
    "            break;\n",
    "        j+=1\n",
    "    i+=1\n",
    "print(\"found\", j)"
   ]
  },
  {
   "cell_type": "markdown",
   "id": "1cd5c37a",
   "metadata": {},
   "source": [
    "10."
   ]
  },
  {
   "cell_type": "code",
   "execution_count": 25,
   "id": "c4d67954",
   "metadata": {},
   "outputs": [
    {
     "name": "stdout",
     "output_type": "stream",
     "text": [
      "Entrez un entier m : 2\n",
      "Entrez un entier m : 4\n",
      "0 * 0 = 0\n",
      "0 * 1 = 0\n",
      "0 * 2 = 0\n",
      "0 * 3 = 0\n",
      "0 * 4 = 0\n",
      "\n",
      "\n",
      "1 * 0 = 0\n",
      "1 * 1 = 1\n",
      "1 * 2 = 2\n",
      "1 * 3 = 3\n",
      "1 * 4 = 4\n",
      "\n",
      "\n",
      "2 * 0 = 0\n",
      "2 * 1 = 2\n",
      "2 * 2 = 4\n",
      "2 * 3 = 6\n",
      "2 * 4 = 8\n",
      "\n",
      "\n"
     ]
    }
   ],
   "source": [
    "n = int(input('Entrez un entier m : '))\n",
    "while n<0 :\n",
    "    n = int(input(\"Entrez une nombre n>0 : \"))\n",
    "\n",
    "N = int(input('Entrez un entier m : '))\n",
    "while n<0 :\n",
    "    N = int(input(\"Entrez une nombre n>0: \"))\n",
    "produit =1\n",
    "for i in range(n+1) :\n",
    "    for j in range(N+1) :\n",
    "        produit = i*j\n",
    "        print(i, '*', j, '=', produit )\n",
    "    print('\\n')"
   ]
  },
  {
   "cell_type": "code",
   "execution_count": null,
   "id": "2af04dce",
   "metadata": {},
   "outputs": [],
   "source": []
  }
 ],
 "metadata": {
  "kernelspec": {
   "display_name": "Python 3",
   "language": "python",
   "name": "python3"
  }
 },
 "nbformat": 4,
 "nbformat_minor": 5
}
